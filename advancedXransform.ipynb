{
 "cells": [
  {
   "cell_type": "markdown",
   "id": "7748d953",
   "metadata": {},
   "source": [
    "## advancedXransform\n",
    "\n",
    "### Author:  Sheneka Allen"
   ]
  },
  {
   "cell_type": "code",
   "execution_count": 1,
   "id": "3ddd766c",
   "metadata": {},
   "outputs": [],
   "source": [
    "## Standard Imports\n",
    "import numpy as np\n",
    "import pandas as pd\n",
    "import matplotlib.pyplot as plt\n",
    "import seaborn as sns\n",
    "\n",
    "## Importing the OS and JSON Modules\n",
    "import os,json"
   ]
  },
  {
   "cell_type": "code",
   "execution_count": 2,
   "id": "160c6ad6",
   "metadata": {},
   "outputs": [],
   "source": [
    "# Specify folder for saving data in Python vs Jupyter Notebook\n",
    "folder = \"Data/\"\n",
    "os.makedirs(folder, exist_ok=True)"
   ]
  },
  {
   "cell_type": "code",
   "execution_count": 3,
   "id": "dfe1ca20",
   "metadata": {},
   "outputs": [
    {
     "data": {
      "text/html": [
       "<div>\n",
       "<style scoped>\n",
       "    .dataframe tbody tr th:only-of-type {\n",
       "        vertical-align: middle;\n",
       "    }\n",
       "\n",
       "    .dataframe tbody tr th {\n",
       "        vertical-align: top;\n",
       "    }\n",
       "\n",
       "    .dataframe thead th {\n",
       "        text-align: right;\n",
       "    }\n",
       "</style>\n",
       "<table border=\"1\" class=\"dataframe\">\n",
       "  <thead>\n",
       "    <tr style=\"text-align: right;\">\n",
       "      <th></th>\n",
       "      <th>Hero|Publisher</th>\n",
       "      <th>Gender</th>\n",
       "      <th>Race</th>\n",
       "      <th>Alignment</th>\n",
       "      <th>Hair color</th>\n",
       "      <th>Eye color</th>\n",
       "      <th>Skin color</th>\n",
       "      <th>Measurements</th>\n",
       "    </tr>\n",
       "  </thead>\n",
       "  <tbody>\n",
       "    <tr>\n",
       "      <th>0</th>\n",
       "      <td>A-Bomb|Marvel Comics</td>\n",
       "      <td>Male</td>\n",
       "      <td>Human</td>\n",
       "      <td>good</td>\n",
       "      <td>No Hair</td>\n",
       "      <td>yellow</td>\n",
       "      <td>Unknown</td>\n",
       "      <td>{'Height': '203.0 cm', 'Weight': '441.0 kg'}</td>\n",
       "    </tr>\n",
       "    <tr>\n",
       "      <th>1</th>\n",
       "      <td>Abe Sapien|Dark Horse Comics</td>\n",
       "      <td>Male</td>\n",
       "      <td>Icthyo Sapien</td>\n",
       "      <td>good</td>\n",
       "      <td>No Hair</td>\n",
       "      <td>blue</td>\n",
       "      <td>blue</td>\n",
       "      <td>{'Height': '191.0 cm', 'Weight': '65.0 kg'}</td>\n",
       "    </tr>\n",
       "    <tr>\n",
       "      <th>2</th>\n",
       "      <td>Abin Sur|DC Comics</td>\n",
       "      <td>Male</td>\n",
       "      <td>Ungaran</td>\n",
       "      <td>good</td>\n",
       "      <td>No Hair</td>\n",
       "      <td>blue</td>\n",
       "      <td>red</td>\n",
       "      <td>{'Height': '185.0 cm', 'Weight': '90.0 kg'}</td>\n",
       "    </tr>\n",
       "    <tr>\n",
       "      <th>3</th>\n",
       "      <td>Abomination|Marvel Comics</td>\n",
       "      <td>Male</td>\n",
       "      <td>Human / Radiation</td>\n",
       "      <td>bad</td>\n",
       "      <td>No Hair</td>\n",
       "      <td>green</td>\n",
       "      <td>Unknown</td>\n",
       "      <td>{'Height': '203.0 cm', 'Weight': '441.0 kg'}</td>\n",
       "    </tr>\n",
       "    <tr>\n",
       "      <th>4</th>\n",
       "      <td>Absorbing Man|Marvel Comics</td>\n",
       "      <td>Male</td>\n",
       "      <td>Human</td>\n",
       "      <td>bad</td>\n",
       "      <td>No Hair</td>\n",
       "      <td>blue</td>\n",
       "      <td>Unknown</td>\n",
       "      <td>{'Height': '193.0 cm', 'Weight': '122.0 kg'}</td>\n",
       "    </tr>\n",
       "  </tbody>\n",
       "</table>\n",
       "</div>"
      ],
      "text/plain": [
       "                 Hero|Publisher Gender               Race Alignment  \\\n",
       "0          A-Bomb|Marvel Comics   Male              Human      good   \n",
       "1  Abe Sapien|Dark Horse Comics   Male      Icthyo Sapien      good   \n",
       "2            Abin Sur|DC Comics   Male            Ungaran      good   \n",
       "3     Abomination|Marvel Comics   Male  Human / Radiation       bad   \n",
       "4   Absorbing Man|Marvel Comics   Male              Human       bad   \n",
       "\n",
       "  Hair color Eye color Skin color  \\\n",
       "0    No Hair    yellow    Unknown   \n",
       "1    No Hair      blue       blue   \n",
       "2    No Hair      blue        red   \n",
       "3    No Hair     green    Unknown   \n",
       "4    No Hair      blue    Unknown   \n",
       "\n",
       "                                   Measurements  \n",
       "0  {'Height': '203.0 cm', 'Weight': '441.0 kg'}  \n",
       "1   {'Height': '191.0 cm', 'Weight': '65.0 kg'}  \n",
       "2   {'Height': '185.0 cm', 'Weight': '90.0 kg'}  \n",
       "3  {'Height': '203.0 cm', 'Weight': '441.0 kg'}  \n",
       "4  {'Height': '193.0 cm', 'Weight': '122.0 kg'}  "
      ]
     },
     "execution_count": 3,
     "metadata": {},
     "output_type": "execute_result"
    }
   ],
   "source": [
    "df = pd.read_csv('https://docs.google.com/spreadsheets/d/e/2PACX-1vS1ZstYLwFgwhZnqDsPjtnlHYhJp_cmW55J8JD5mym0seRsaem3px7QBtuFF0LiI7z1PLCkVKAkdO7J/pub?output=csv')\n",
    "df.head()"
   ]
  },
  {
   "cell_type": "code",
   "execution_count": 4,
   "id": "de669011",
   "metadata": {},
   "outputs": [
    {
     "data": {
      "text/html": [
       "<div>\n",
       "<style scoped>\n",
       "    .dataframe tbody tr th:only-of-type {\n",
       "        vertical-align: middle;\n",
       "    }\n",
       "\n",
       "    .dataframe tbody tr th {\n",
       "        vertical-align: top;\n",
       "    }\n",
       "\n",
       "    .dataframe thead th {\n",
       "        text-align: right;\n",
       "    }\n",
       "</style>\n",
       "<table border=\"1\" class=\"dataframe\">\n",
       "  <thead>\n",
       "    <tr style=\"text-align: right;\">\n",
       "      <th></th>\n",
       "      <th>hero_names</th>\n",
       "      <th>Powers</th>\n",
       "    </tr>\n",
       "  </thead>\n",
       "  <tbody>\n",
       "    <tr>\n",
       "      <th>0</th>\n",
       "      <td>3-D Man</td>\n",
       "      <td>Agility,Super Strength,Stamina,Super Speed</td>\n",
       "    </tr>\n",
       "    <tr>\n",
       "      <th>1</th>\n",
       "      <td>A-Bomb</td>\n",
       "      <td>Accelerated Healing,Durability,Longevity,Super...</td>\n",
       "    </tr>\n",
       "    <tr>\n",
       "      <th>2</th>\n",
       "      <td>Abe Sapien</td>\n",
       "      <td>Agility,Accelerated Healing,Cold Resistance,Du...</td>\n",
       "    </tr>\n",
       "    <tr>\n",
       "      <th>3</th>\n",
       "      <td>Abin Sur</td>\n",
       "      <td>Lantern Power Ring</td>\n",
       "    </tr>\n",
       "    <tr>\n",
       "      <th>4</th>\n",
       "      <td>Abomination</td>\n",
       "      <td>Accelerated Healing,Intelligence,Super Strengt...</td>\n",
       "    </tr>\n",
       "  </tbody>\n",
       "</table>\n",
       "</div>"
      ],
      "text/plain": [
       "    hero_names                                             Powers\n",
       "0      3-D Man         Agility,Super Strength,Stamina,Super Speed\n",
       "1       A-Bomb  Accelerated Healing,Durability,Longevity,Super...\n",
       "2   Abe Sapien  Agility,Accelerated Healing,Cold Resistance,Du...\n",
       "3     Abin Sur                                 Lantern Power Ring\n",
       "4  Abomination  Accelerated Healing,Intelligence,Super Strengt..."
      ]
     },
     "execution_count": 4,
     "metadata": {},
     "output_type": "execute_result"
    }
   ],
   "source": [
    "df1 = pd.read_csv('https://docs.google.com/spreadsheets/d/e/2PACX-1vSzdWOBaXOoz52vPmCFV5idNlDBohLY1Lsbc1IfZIZQ7cV_aNB2wYBfhF49uE1TaO1B5MQCGWiNrFfd/pub?output=csv')\n",
    "df1.head()"
   ]
  },
  {
   "cell_type": "code",
   "execution_count": 5,
   "id": "fababdec",
   "metadata": {},
   "outputs": [
    {
     "data": {
      "text/plain": [
       "Hero|Publisher    0\n",
       "Gender            0\n",
       "Race              0\n",
       "Alignment         0\n",
       "Hair color        0\n",
       "Eye color         0\n",
       "Skin color        0\n",
       "Measurements      0\n",
       "dtype: int64"
      ]
     },
     "execution_count": 5,
     "metadata": {},
     "output_type": "execute_result"
    }
   ],
   "source": [
    "# explore and clean dataframes for transformation\n",
    "df.isna().sum()"
   ]
  },
  {
   "cell_type": "code",
   "execution_count": 6,
   "id": "86729fd9",
   "metadata": {},
   "outputs": [
    {
     "data": {
      "text/plain": [
       "hero_names    0\n",
       "Powers        0\n",
       "dtype: int64"
      ]
     },
     "execution_count": 6,
     "metadata": {},
     "output_type": "execute_result"
    }
   ],
   "source": [
    "df1.isna().sum()"
   ]
  },
  {
   "cell_type": "code",
   "execution_count": 7,
   "id": "d19c5de3",
   "metadata": {},
   "outputs": [
    {
     "data": {
      "text/plain": [
       "{'Height': '183.0 cm', 'Weight': '90.0 kg'}     6\n",
       "{'Height': '183.0 cm', 'Weight': '86.0 kg'}     6\n",
       "{'Height': '178.0 cm', 'Weight': '79.0 kg'}     6\n",
       "{'Height': '188.0 cm', 'Weight': '95.0 kg'}     6\n",
       "{'Height': '180.0 cm', 'Weight': '81.0 kg'}     6\n",
       "                                               ..\n",
       "{'Height': '701.0 cm', 'Weight': '4.0 kg'}      1\n",
       "{'Height': '185.0 cm', 'Weight': '89.0 kg'}     1\n",
       "{'Height': '259.0 cm', 'Weight': '158.0 kg'}    1\n",
       "{'Height': '191.0 cm', 'Weight': '65.0 kg'}     1\n",
       "{'Height': '66.0 cm', 'Weight': '17.0 kg'}      1\n",
       "Name: Measurements, Length: 287, dtype: int64"
      ]
     },
     "execution_count": 7,
     "metadata": {},
     "output_type": "execute_result"
    }
   ],
   "source": [
    "df.Measurements.value_counts()"
   ]
  },
  {
   "cell_type": "code",
   "execution_count": 8,
   "id": "223cc527",
   "metadata": {},
   "outputs": [
    {
     "name": "stdout",
     "output_type": "stream",
     "text": [
      "<class 'pandas.core.frame.DataFrame'>\n",
      "RangeIndex: 463 entries, 0 to 462\n",
      "Data columns (total 8 columns):\n",
      " #   Column          Non-Null Count  Dtype \n",
      "---  ------          --------------  ----- \n",
      " 0   Hero|Publisher  463 non-null    object\n",
      " 1   Gender          463 non-null    object\n",
      " 2   Race            463 non-null    object\n",
      " 3   Alignment       463 non-null    object\n",
      " 4   Hair color      463 non-null    object\n",
      " 5   Eye color       463 non-null    object\n",
      " 6   Skin color      463 non-null    object\n",
      " 7   Measurements    463 non-null    object\n",
      "dtypes: object(8)\n",
      "memory usage: 29.1+ KB\n"
     ]
    }
   ],
   "source": [
    "df.info()"
   ]
  },
  {
   "cell_type": "code",
   "execution_count": 9,
   "id": "db520f8a",
   "metadata": {},
   "outputs": [
    {
     "name": "stdout",
     "output_type": "stream",
     "text": [
      "<class 'pandas.core.frame.DataFrame'>\n",
      "RangeIndex: 667 entries, 0 to 666\n",
      "Data columns (total 2 columns):\n",
      " #   Column      Non-Null Count  Dtype \n",
      "---  ------      --------------  ----- \n",
      " 0   hero_names  667 non-null    object\n",
      " 1   Powers      667 non-null    object\n",
      "dtypes: object(2)\n",
      "memory usage: 10.5+ KB\n"
     ]
    }
   ],
   "source": [
    "df1.info()"
   ]
  },
  {
   "cell_type": "code",
   "execution_count": 10,
   "id": "5cb622b0",
   "metadata": {},
   "outputs": [
    {
     "data": {
      "text/plain": [
       "Human                156\n",
       "Unknown              145\n",
       "Mutant                51\n",
       "Human / Radiation     11\n",
       "Android                7\n",
       "Symbiote               7\n",
       "Alien                  6\n",
       "Demon                  6\n",
       "Cyborg                 6\n",
       "Kryptonian             5\n",
       "Atlantean              5\n",
       "Asgardian              5\n",
       "Inhuman                4\n",
       "New God                3\n",
       "Human-Kree             2\n",
       "Eternal                2\n",
       "Demi-God               2\n",
       "Saiyan                 2\n",
       "Amazon                 2\n",
       "Human / Altered        2\n",
       "Metahuman              2\n",
       "God / Eternal          2\n",
       "Human-Vulcan           1\n",
       "Martian                1\n",
       "Zombie                 1\n",
       "Korugaran              1\n",
       "Talokite               1\n",
       "Clone                  1\n",
       "Human-Spartoi          1\n",
       "Animal                 1\n",
       "Yautja                 1\n",
       "Human / Cosmic         1\n",
       "Tamaranean             1\n",
       "Mutant / Clone         1\n",
       "Luphomoid              1\n",
       "Frost Giant            1\n",
       "Strontian              1\n",
       "Czarnian               1\n",
       "Bolovaxian             1\n",
       "Human-Vuldarian        1\n",
       "Flora Colossus         1\n",
       "Gorilla                1\n",
       "Icthyo Sapien          1\n",
       "Zen-Whoberian          1\n",
       "Cosmic Entity          1\n",
       "Kakarantharaian        1\n",
       "Vampire                1\n",
       "Bizarro                1\n",
       "Neyaphem               1\n",
       "Xenomorph XX121        1\n",
       "Ungaran                1\n",
       "Yoda's species         1\n",
       "Name: Race, dtype: int64"
      ]
     },
     "execution_count": 10,
     "metadata": {},
     "output_type": "execute_result"
    }
   ],
   "source": [
    "df.Race.value_counts()"
   ]
  },
  {
   "cell_type": "code",
   "execution_count": 11,
   "id": "054573b2",
   "metadata": {},
   "outputs": [
    {
     "data": {
      "text/plain": [
       "Male       321\n",
       "Female     134\n",
       "Unknown      8\n",
       "Name: Gender, dtype: int64"
      ]
     },
     "execution_count": 11,
     "metadata": {},
     "output_type": "execute_result"
    }
   ],
   "source": [
    "df.Gender.value_counts()"
   ]
  },
  {
   "cell_type": "code",
   "execution_count": 12,
   "id": "2012fbbf",
   "metadata": {},
   "outputs": [
    {
     "data": {
      "text/plain": [
       "good       311\n",
       "bad        132\n",
       "neutral     17\n",
       "Unknown      3\n",
       "Name: Alignment, dtype: int64"
      ]
     },
     "execution_count": 12,
     "metadata": {},
     "output_type": "execute_result"
    }
   ],
   "source": [
    "df.Alignment.value_counts()"
   ]
  },
  {
   "cell_type": "code",
   "execution_count": 13,
   "id": "8be63f8a",
   "metadata": {},
   "outputs": [
    {
     "data": {
      "text/plain": [
       "Black               127\n",
       "Blond                74\n",
       "Brown                69\n",
       "No Hair              52\n",
       "Red                  41\n",
       "White                22\n",
       "Unknown              18\n",
       "Auburn               13\n",
       "Green                 6\n",
       "Strawberry Blond      5\n",
       "Purple                4\n",
       "Brown / White         4\n",
       "Grey                  4\n",
       "black                 3\n",
       "blond                 3\n",
       "Silver                3\n",
       "Blue                  2\n",
       "Orange                2\n",
       "Pink                  1\n",
       "Gold                  1\n",
       "Red / White           1\n",
       "Indigo                1\n",
       "Red / Orange          1\n",
       "Red / Grey            1\n",
       "Brownn                1\n",
       "Yellow                1\n",
       "Orange / White        1\n",
       "Magenta               1\n",
       "Black / Blue          1\n",
       "Name: Hair color, dtype: int64"
      ]
     },
     "execution_count": 13,
     "metadata": {},
     "output_type": "execute_result"
    }
   ],
   "source": [
    "df['Hair color'].value_counts()"
   ]
  },
  {
   "cell_type": "code",
   "execution_count": 14,
   "id": "206416cd",
   "metadata": {},
   "outputs": [
    {
     "data": {
      "text/plain": [
       "Black               130\n",
       "Blond                77\n",
       "Brown                70\n",
       "No Hair              52\n",
       "Red                  41\n",
       "White                22\n",
       "Unknown              18\n",
       "Auburn               13\n",
       "Green                 6\n",
       "Strawberry Blond      5\n",
       "Purple                4\n",
       "Brown / White         4\n",
       "Grey                  4\n",
       "Silver                3\n",
       "Blue                  2\n",
       "Orange                2\n",
       "Pink                  1\n",
       "Gold                  1\n",
       "Red / White           1\n",
       "Indigo                1\n",
       "Red / Orange          1\n",
       "Red / Grey            1\n",
       "Yellow                1\n",
       "Orange / White        1\n",
       "Magenta               1\n",
       "Black / Blue          1\n",
       "Name: Hair color, dtype: int64"
      ]
     },
     "execution_count": 14,
     "metadata": {},
     "output_type": "execute_result"
    }
   ],
   "source": [
    "df['Hair color'] = df['Hair color'].replace('Brownn','Brown')\n",
    "df['Hair color'] = df['Hair color'].replace('black', 'Black')\n",
    "df['Hair color'] = df['Hair color'].replace('blond','Blond')\n",
    "df['Hair color'].value_counts()"
   ]
  },
  {
   "cell_type": "code",
   "execution_count": 15,
   "id": "7abe397d",
   "metadata": {},
   "outputs": [
    {
     "data": {
      "text/plain": [
       "blue                       182\n",
       "brown                      102\n",
       "green                       61\n",
       "red                         38\n",
       "Unknown                     17\n",
       "yellow                      13\n",
       "black                       12\n",
       "white                       10\n",
       "grey                         5\n",
       "hazel                        5\n",
       "gold                         3\n",
       "purple                       3\n",
       "yellow (without irises)      2\n",
       "amber                        2\n",
       "violet                       2\n",
       "white / red                  1\n",
       "indigo                       1\n",
       "silver                       1\n",
       "green / blue                 1\n",
       "blue / white                 1\n",
       "yellow / blue                1\n",
       "Name: Eye color, dtype: int64"
      ]
     },
     "execution_count": 15,
     "metadata": {},
     "output_type": "execute_result"
    }
   ],
   "source": [
    "df['Eye color'].value_counts()"
   ]
  },
  {
   "cell_type": "code",
   "execution_count": 16,
   "id": "5dbde18f",
   "metadata": {},
   "outputs": [
    {
     "data": {
      "text/plain": [
       "Unknown       409\n",
       "green          15\n",
       "blue            7\n",
       "red             7\n",
       "white           5\n",
       "grey            4\n",
       "silver          4\n",
       "purple          3\n",
       "gold            2\n",
       "pink            2\n",
       "yellow          2\n",
       "black           1\n",
       "blue-white      1\n",
       "orange          1\n",
       "Name: Skin color, dtype: int64"
      ]
     },
     "execution_count": 16,
     "metadata": {},
     "output_type": "execute_result"
    }
   ],
   "source": [
    "df['Skin color'].value_counts()"
   ]
  },
  {
   "cell_type": "markdown",
   "id": "c0955465",
   "metadata": {},
   "source": [
    "### Converting a string column of dictionaries into actual dictionaries"
   ]
  },
  {
   "cell_type": "code",
   "execution_count": 17,
   "id": "806cf77c",
   "metadata": {},
   "outputs": [
    {
     "name": "stdout",
     "output_type": "stream",
     "text": [
      "<class 'str'>\n"
     ]
    },
    {
     "data": {
      "text/plain": [
       "\"{'Height': '203.0 cm', 'Weight': '441.0 kg'}\""
      ]
     },
     "execution_count": 17,
     "metadata": {},
     "output_type": "execute_result"
    }
   ],
   "source": [
    "## examining a single value from the Measurements col\n",
    "meas = df.loc[0,\"Measurements\"]\n",
    "print(type(meas))\n",
    "meas"
   ]
  },
  {
   "cell_type": "code",
   "execution_count": 18,
   "id": "800afbcf",
   "metadata": {},
   "outputs": [
    {
     "data": {
      "text/plain": [
       "'{\"Height\": \"203.0 cm\", \"Weight\": \"441.0 kg\"}'"
      ]
     },
     "execution_count": 18,
     "metadata": {},
     "output_type": "execute_result"
    }
   ],
   "source": [
    "# replace single quotes with double quotes BEFORE using json.loads\n",
    "# to prevent JSONDecodeError\n",
    "\n",
    "meas = meas.replace(\"'\",'\"')\n",
    "meas"
   ]
  },
  {
   "cell_type": "code",
   "execution_count": 19,
   "id": "c9f8d5bd",
   "metadata": {},
   "outputs": [
    {
     "name": "stdout",
     "output_type": "stream",
     "text": [
      "<class 'dict'>\n"
     ]
    },
    {
     "data": {
      "text/plain": [
       "{'Height': '203.0 cm', 'Weight': '441.0 kg'}"
      ]
     },
     "execution_count": 19,
     "metadata": {},
     "output_type": "execute_result"
    }
   ],
   "source": [
    "# load a JSON-compatible STRING into a dictionary/list of dictionaries.\n",
    "## now use json.loads\n",
    "fixed_meas = json.loads(meas)\n",
    "print(type(fixed_meas))\n",
    "fixed_meas"
   ]
  },
  {
   "cell_type": "code",
   "execution_count": 20,
   "id": "77a8f821",
   "metadata": {},
   "outputs": [
    {
     "data": {
      "text/plain": [
       "0    {'Height': '203.0 cm', 'Weight': '441.0 kg'}\n",
       "1     {'Height': '191.0 cm', 'Weight': '65.0 kg'}\n",
       "2     {'Height': '185.0 cm', 'Weight': '90.0 kg'}\n",
       "3    {'Height': '203.0 cm', 'Weight': '441.0 kg'}\n",
       "4    {'Height': '193.0 cm', 'Weight': '122.0 kg'}\n",
       "Name: Measurements, dtype: object"
      ]
     },
     "execution_count": 20,
     "metadata": {},
     "output_type": "execute_result"
    }
   ],
   "source": [
    "## use .str.replace to replace all single quotes\n",
    "df['Measurements'] = df['Measurements'].str.replace(\"'\",'\"')\n",
    "## Apply the json.loads to the full column\n",
    "df['Measurements'] = df['Measurements'].apply(json.loads)\n",
    "df['Measurements'].head(5)"
   ]
  },
  {
   "cell_type": "code",
   "execution_count": 21,
   "id": "a3e4743e",
   "metadata": {},
   "outputs": [
    {
     "name": "stdout",
     "output_type": "stream",
     "text": [
      "<class 'dict'>\n"
     ]
    },
    {
     "data": {
      "text/plain": [
       "{'Height': '203.0 cm', 'Weight': '441.0 kg'}"
      ]
     },
     "execution_count": 21,
     "metadata": {},
     "output_type": "execute_result"
    }
   ],
   "source": [
    "## check a single value after transformation\n",
    "test_meas = df.loc[0, 'Measurements']\n",
    "print(type(test_meas))\n",
    "test_meas"
   ]
  },
  {
   "cell_type": "code",
   "execution_count": 22,
   "id": "2226ebd0",
   "metadata": {},
   "outputs": [
    {
     "data": {
      "text/html": [
       "<div>\n",
       "<style scoped>\n",
       "    .dataframe tbody tr th:only-of-type {\n",
       "        vertical-align: middle;\n",
       "    }\n",
       "\n",
       "    .dataframe tbody tr th {\n",
       "        vertical-align: top;\n",
       "    }\n",
       "\n",
       "    .dataframe thead th {\n",
       "        text-align: right;\n",
       "    }\n",
       "</style>\n",
       "<table border=\"1\" class=\"dataframe\">\n",
       "  <thead>\n",
       "    <tr style=\"text-align: right;\">\n",
       "      <th></th>\n",
       "      <th>Height</th>\n",
       "      <th>Weight</th>\n",
       "    </tr>\n",
       "  </thead>\n",
       "  <tbody>\n",
       "    <tr>\n",
       "      <th>0</th>\n",
       "      <td>203.0 cm</td>\n",
       "      <td>441.0 kg</td>\n",
       "    </tr>\n",
       "    <tr>\n",
       "      <th>1</th>\n",
       "      <td>191.0 cm</td>\n",
       "      <td>65.0 kg</td>\n",
       "    </tr>\n",
       "    <tr>\n",
       "      <th>2</th>\n",
       "      <td>185.0 cm</td>\n",
       "      <td>90.0 kg</td>\n",
       "    </tr>\n",
       "    <tr>\n",
       "      <th>3</th>\n",
       "      <td>203.0 cm</td>\n",
       "      <td>441.0 kg</td>\n",
       "    </tr>\n",
       "    <tr>\n",
       "      <th>4</th>\n",
       "      <td>193.0 cm</td>\n",
       "      <td>122.0 kg</td>\n",
       "    </tr>\n",
       "    <tr>\n",
       "      <th>...</th>\n",
       "      <td>...</td>\n",
       "      <td>...</td>\n",
       "    </tr>\n",
       "    <tr>\n",
       "      <th>458</th>\n",
       "      <td>183.0 cm</td>\n",
       "      <td>83.0 kg</td>\n",
       "    </tr>\n",
       "    <tr>\n",
       "      <th>459</th>\n",
       "      <td>165.0 cm</td>\n",
       "      <td>52.0 kg</td>\n",
       "    </tr>\n",
       "    <tr>\n",
       "      <th>460</th>\n",
       "      <td>66.0 cm</td>\n",
       "      <td>17.0 kg</td>\n",
       "    </tr>\n",
       "    <tr>\n",
       "      <th>461</th>\n",
       "      <td>170.0 cm</td>\n",
       "      <td>57.0 kg</td>\n",
       "    </tr>\n",
       "    <tr>\n",
       "      <th>462</th>\n",
       "      <td>185.0 cm</td>\n",
       "      <td>81.0 kg</td>\n",
       "    </tr>\n",
       "  </tbody>\n",
       "</table>\n",
       "<p>463 rows × 2 columns</p>\n",
       "</div>"
      ],
      "text/plain": [
       "       Height    Weight\n",
       "0    203.0 cm  441.0 kg\n",
       "1    191.0 cm   65.0 kg\n",
       "2    185.0 cm   90.0 kg\n",
       "3    203.0 cm  441.0 kg\n",
       "4    193.0 cm  122.0 kg\n",
       "..        ...       ...\n",
       "458  183.0 cm   83.0 kg\n",
       "459  165.0 cm   52.0 kg\n",
       "460   66.0 cm   17.0 kg\n",
       "461  170.0 cm   57.0 kg\n",
       "462  185.0 cm   81.0 kg\n",
       "\n",
       "[463 rows x 2 columns]"
      ]
     },
     "execution_count": 22,
     "metadata": {},
     "output_type": "execute_result"
    }
   ],
   "source": [
    "# unpack Measurements dictionary into two columns\n",
    "height_weight = df['Measurements'].apply(pd.Series)\n",
    "height_weight"
   ]
  },
  {
   "cell_type": "code",
   "execution_count": 23,
   "id": "b4e9a267",
   "metadata": {},
   "outputs": [
    {
     "data": {
      "text/html": [
       "<div>\n",
       "<style scoped>\n",
       "    .dataframe tbody tr th:only-of-type {\n",
       "        vertical-align: middle;\n",
       "    }\n",
       "\n",
       "    .dataframe tbody tr th {\n",
       "        vertical-align: top;\n",
       "    }\n",
       "\n",
       "    .dataframe thead th {\n",
       "        text-align: right;\n",
       "    }\n",
       "</style>\n",
       "<table border=\"1\" class=\"dataframe\">\n",
       "  <thead>\n",
       "    <tr style=\"text-align: right;\">\n",
       "      <th></th>\n",
       "      <th>Hero|Publisher</th>\n",
       "      <th>Gender</th>\n",
       "      <th>Race</th>\n",
       "      <th>Alignment</th>\n",
       "      <th>Hair color</th>\n",
       "      <th>Eye color</th>\n",
       "      <th>Skin color</th>\n",
       "      <th>Measurements</th>\n",
       "      <th>Height</th>\n",
       "      <th>Weight</th>\n",
       "    </tr>\n",
       "  </thead>\n",
       "  <tbody>\n",
       "    <tr>\n",
       "      <th>0</th>\n",
       "      <td>A-Bomb|Marvel Comics</td>\n",
       "      <td>Male</td>\n",
       "      <td>Human</td>\n",
       "      <td>good</td>\n",
       "      <td>No Hair</td>\n",
       "      <td>yellow</td>\n",
       "      <td>Unknown</td>\n",
       "      <td>{'Height': '203.0 cm', 'Weight': '441.0 kg'}</td>\n",
       "      <td>203.0 cm</td>\n",
       "      <td>441.0 kg</td>\n",
       "    </tr>\n",
       "    <tr>\n",
       "      <th>1</th>\n",
       "      <td>Abe Sapien|Dark Horse Comics</td>\n",
       "      <td>Male</td>\n",
       "      <td>Icthyo Sapien</td>\n",
       "      <td>good</td>\n",
       "      <td>No Hair</td>\n",
       "      <td>blue</td>\n",
       "      <td>blue</td>\n",
       "      <td>{'Height': '191.0 cm', 'Weight': '65.0 kg'}</td>\n",
       "      <td>191.0 cm</td>\n",
       "      <td>65.0 kg</td>\n",
       "    </tr>\n",
       "  </tbody>\n",
       "</table>\n",
       "</div>"
      ],
      "text/plain": [
       "                 Hero|Publisher Gender           Race Alignment Hair color  \\\n",
       "0          A-Bomb|Marvel Comics   Male          Human      good    No Hair   \n",
       "1  Abe Sapien|Dark Horse Comics   Male  Icthyo Sapien      good    No Hair   \n",
       "\n",
       "  Eye color Skin color                                  Measurements  \\\n",
       "0    yellow    Unknown  {'Height': '203.0 cm', 'Weight': '441.0 kg'}   \n",
       "1      blue       blue   {'Height': '191.0 cm', 'Weight': '65.0 kg'}   \n",
       "\n",
       "     Height    Weight  \n",
       "0  203.0 cm  441.0 kg  \n",
       "1  191.0 cm   65.0 kg  "
      ]
     },
     "execution_count": 23,
     "metadata": {},
     "output_type": "execute_result"
    }
   ],
   "source": [
    "# concat height_weight with original dataframe\n",
    "df = pd.concat((df, height_weight), axis = 1)\n",
    "df.head(2)"
   ]
  },
  {
   "cell_type": "code",
   "execution_count": 24,
   "id": "ec1a4f97",
   "metadata": {},
   "outputs": [
    {
     "data": {
      "text/plain": [
       "0    203.0 \n",
       "1    191.0 \n",
       "2    185.0 \n",
       "3    203.0 \n",
       "4    193.0 \n",
       "Name: Height, dtype: object"
      ]
     },
     "execution_count": 24,
     "metadata": {},
     "output_type": "execute_result"
    }
   ],
   "source": [
    "df['Height'] = df['Height'].str.replace(\"cm\", \"\")\n",
    "df.Height.head()"
   ]
  },
  {
   "cell_type": "code",
   "execution_count": 25,
   "id": "4197d51c",
   "metadata": {},
   "outputs": [
    {
     "data": {
      "text/plain": [
       "0    441.0 \n",
       "1     65.0 \n",
       "2     90.0 \n",
       "3    441.0 \n",
       "4    122.0 \n",
       "Name: Weight, dtype: object"
      ]
     },
     "execution_count": 25,
     "metadata": {},
     "output_type": "execute_result"
    }
   ],
   "source": [
    "df['Weight'] = df['Weight'].str.replace(\"kg\", \"\")\n",
    "df.Weight.head()"
   ]
  },
  {
   "cell_type": "code",
   "execution_count": 26,
   "id": "2ed7b649",
   "metadata": {},
   "outputs": [],
   "source": [
    "df['Height'] = pd.to_numeric(df['Height'])\n",
    "df['Weight'] = pd.to_numeric(df['Weight'])"
   ]
  },
  {
   "cell_type": "code",
   "execution_count": 27,
   "id": "34a17f45",
   "metadata": {},
   "outputs": [
    {
     "data": {
      "text/html": [
       "<div>\n",
       "<style scoped>\n",
       "    .dataframe tbody tr th:only-of-type {\n",
       "        vertical-align: middle;\n",
       "    }\n",
       "\n",
       "    .dataframe tbody tr th {\n",
       "        vertical-align: top;\n",
       "    }\n",
       "\n",
       "    .dataframe thead th {\n",
       "        text-align: right;\n",
       "    }\n",
       "</style>\n",
       "<table border=\"1\" class=\"dataframe\">\n",
       "  <thead>\n",
       "    <tr style=\"text-align: right;\">\n",
       "      <th></th>\n",
       "      <th>Hero|Publisher</th>\n",
       "      <th>Gender</th>\n",
       "      <th>Race</th>\n",
       "      <th>Alignment</th>\n",
       "      <th>Hair color</th>\n",
       "      <th>Eye color</th>\n",
       "      <th>Skin color</th>\n",
       "      <th>Height</th>\n",
       "      <th>Weight</th>\n",
       "    </tr>\n",
       "  </thead>\n",
       "  <tbody>\n",
       "    <tr>\n",
       "      <th>0</th>\n",
       "      <td>A-Bomb|Marvel Comics</td>\n",
       "      <td>Male</td>\n",
       "      <td>Human</td>\n",
       "      <td>good</td>\n",
       "      <td>No Hair</td>\n",
       "      <td>yellow</td>\n",
       "      <td>Unknown</td>\n",
       "      <td>203.0</td>\n",
       "      <td>441.0</td>\n",
       "    </tr>\n",
       "    <tr>\n",
       "      <th>1</th>\n",
       "      <td>Abe Sapien|Dark Horse Comics</td>\n",
       "      <td>Male</td>\n",
       "      <td>Icthyo Sapien</td>\n",
       "      <td>good</td>\n",
       "      <td>No Hair</td>\n",
       "      <td>blue</td>\n",
       "      <td>blue</td>\n",
       "      <td>191.0</td>\n",
       "      <td>65.0</td>\n",
       "    </tr>\n",
       "  </tbody>\n",
       "</table>\n",
       "</div>"
      ],
      "text/plain": [
       "                 Hero|Publisher Gender           Race Alignment Hair color  \\\n",
       "0          A-Bomb|Marvel Comics   Male          Human      good    No Hair   \n",
       "1  Abe Sapien|Dark Horse Comics   Male  Icthyo Sapien      good    No Hair   \n",
       "\n",
       "  Eye color Skin color  Height  Weight  \n",
       "0    yellow    Unknown   203.0   441.0  \n",
       "1      blue       blue   191.0    65.0  "
      ]
     },
     "execution_count": 27,
     "metadata": {},
     "output_type": "execute_result"
    }
   ],
   "source": [
    "# drop the original Measurements column\n",
    "df = df.drop(columns=['Measurements'])\n",
    "df.head(2)"
   ]
  },
  {
   "cell_type": "markdown",
   "id": "416be121",
   "metadata": {},
   "source": [
    "### Split string into multiple columns"
   ]
  },
  {
   "cell_type": "code",
   "execution_count": 28,
   "id": "e0cb5536",
   "metadata": {},
   "outputs": [],
   "source": [
    "# adding expand=True auto splits string into 2 columns\n",
    "## save the 2 new columns into the dataframe\n",
    "df[['Hero','Publisher']]=df['Hero|Publisher'].str.split('|',expand=True)"
   ]
  },
  {
   "cell_type": "code",
   "execution_count": 29,
   "id": "4dba5ce6",
   "metadata": {},
   "outputs": [
    {
     "data": {
      "text/html": [
       "<div>\n",
       "<style scoped>\n",
       "    .dataframe tbody tr th:only-of-type {\n",
       "        vertical-align: middle;\n",
       "    }\n",
       "\n",
       "    .dataframe tbody tr th {\n",
       "        vertical-align: top;\n",
       "    }\n",
       "\n",
       "    .dataframe thead th {\n",
       "        text-align: right;\n",
       "    }\n",
       "</style>\n",
       "<table border=\"1\" class=\"dataframe\">\n",
       "  <thead>\n",
       "    <tr style=\"text-align: right;\">\n",
       "      <th></th>\n",
       "      <th>Hero|Publisher</th>\n",
       "      <th>Gender</th>\n",
       "      <th>Race</th>\n",
       "      <th>Alignment</th>\n",
       "      <th>Hair color</th>\n",
       "      <th>Eye color</th>\n",
       "      <th>Skin color</th>\n",
       "      <th>Height</th>\n",
       "      <th>Weight</th>\n",
       "      <th>Hero</th>\n",
       "      <th>Publisher</th>\n",
       "    </tr>\n",
       "  </thead>\n",
       "  <tbody>\n",
       "    <tr>\n",
       "      <th>0</th>\n",
       "      <td>A-Bomb|Marvel Comics</td>\n",
       "      <td>Male</td>\n",
       "      <td>Human</td>\n",
       "      <td>good</td>\n",
       "      <td>No Hair</td>\n",
       "      <td>yellow</td>\n",
       "      <td>Unknown</td>\n",
       "      <td>203.0</td>\n",
       "      <td>441.0</td>\n",
       "      <td>A-Bomb</td>\n",
       "      <td>Marvel Comics</td>\n",
       "    </tr>\n",
       "    <tr>\n",
       "      <th>1</th>\n",
       "      <td>Abe Sapien|Dark Horse Comics</td>\n",
       "      <td>Male</td>\n",
       "      <td>Icthyo Sapien</td>\n",
       "      <td>good</td>\n",
       "      <td>No Hair</td>\n",
       "      <td>blue</td>\n",
       "      <td>blue</td>\n",
       "      <td>191.0</td>\n",
       "      <td>65.0</td>\n",
       "      <td>Abe Sapien</td>\n",
       "      <td>Dark Horse Comics</td>\n",
       "    </tr>\n",
       "  </tbody>\n",
       "</table>\n",
       "</div>"
      ],
      "text/plain": [
       "                 Hero|Publisher Gender           Race Alignment Hair color  \\\n",
       "0          A-Bomb|Marvel Comics   Male          Human      good    No Hair   \n",
       "1  Abe Sapien|Dark Horse Comics   Male  Icthyo Sapien      good    No Hair   \n",
       "\n",
       "  Eye color Skin color  Height  Weight        Hero          Publisher  \n",
       "0    yellow    Unknown   203.0   441.0      A-Bomb      Marvel Comics  \n",
       "1      blue       blue   191.0    65.0  Abe Sapien  Dark Horse Comics  "
      ]
     },
     "execution_count": 29,
     "metadata": {},
     "output_type": "execute_result"
    }
   ],
   "source": [
    "df.head(2)"
   ]
  },
  {
   "cell_type": "code",
   "execution_count": 30,
   "id": "eeaf1c9d",
   "metadata": {},
   "outputs": [
    {
     "data": {
      "text/html": [
       "<div>\n",
       "<style scoped>\n",
       "    .dataframe tbody tr th:only-of-type {\n",
       "        vertical-align: middle;\n",
       "    }\n",
       "\n",
       "    .dataframe tbody tr th {\n",
       "        vertical-align: top;\n",
       "    }\n",
       "\n",
       "    .dataframe thead th {\n",
       "        text-align: right;\n",
       "    }\n",
       "</style>\n",
       "<table border=\"1\" class=\"dataframe\">\n",
       "  <thead>\n",
       "    <tr style=\"text-align: right;\">\n",
       "      <th></th>\n",
       "      <th>Gender</th>\n",
       "      <th>Race</th>\n",
       "      <th>Alignment</th>\n",
       "      <th>Hair color</th>\n",
       "      <th>Eye color</th>\n",
       "      <th>Skin color</th>\n",
       "      <th>Height</th>\n",
       "      <th>Weight</th>\n",
       "      <th>Hero</th>\n",
       "      <th>Publisher</th>\n",
       "    </tr>\n",
       "  </thead>\n",
       "  <tbody>\n",
       "    <tr>\n",
       "      <th>0</th>\n",
       "      <td>Male</td>\n",
       "      <td>Human</td>\n",
       "      <td>good</td>\n",
       "      <td>No Hair</td>\n",
       "      <td>yellow</td>\n",
       "      <td>Unknown</td>\n",
       "      <td>203.0</td>\n",
       "      <td>441.0</td>\n",
       "      <td>A-Bomb</td>\n",
       "      <td>Marvel Comics</td>\n",
       "    </tr>\n",
       "    <tr>\n",
       "      <th>1</th>\n",
       "      <td>Male</td>\n",
       "      <td>Icthyo Sapien</td>\n",
       "      <td>good</td>\n",
       "      <td>No Hair</td>\n",
       "      <td>blue</td>\n",
       "      <td>blue</td>\n",
       "      <td>191.0</td>\n",
       "      <td>65.0</td>\n",
       "      <td>Abe Sapien</td>\n",
       "      <td>Dark Horse Comics</td>\n",
       "    </tr>\n",
       "  </tbody>\n",
       "</table>\n",
       "</div>"
      ],
      "text/plain": [
       "  Gender           Race Alignment Hair color Eye color Skin color  Height  \\\n",
       "0   Male          Human      good    No Hair    yellow    Unknown   203.0   \n",
       "1   Male  Icthyo Sapien      good    No Hair      blue       blue   191.0   \n",
       "\n",
       "   Weight        Hero          Publisher  \n",
       "0   441.0      A-Bomb      Marvel Comics  \n",
       "1    65.0  Abe Sapien  Dark Horse Comics  "
      ]
     },
     "execution_count": 30,
     "metadata": {},
     "output_type": "execute_result"
    }
   ],
   "source": [
    "# drop the original Hero|Publisher column\n",
    "df = df.drop(columns=['Hero|Publisher'])\n",
    "df.head(2)"
   ]
  },
  {
   "cell_type": "markdown",
   "id": "4030cda4",
   "metadata": {},
   "source": [
    "### The Powers column in df1 is currently one entire string, but is actually a dictionary of strings"
   ]
  },
  {
   "cell_type": "code",
   "execution_count": 31,
   "id": "75f84abb",
   "metadata": {},
   "outputs": [
    {
     "name": "stdout",
     "output_type": "stream",
     "text": [
      "<class 'str'>\n"
     ]
    },
    {
     "data": {
      "text/plain": [
       "'Accelerated Healing,Durability,Longevity,Super Strength,Stamina,Camouflage,Self-Sustenance'"
      ]
     },
     "execution_count": 31,
     "metadata": {},
     "output_type": "execute_result"
    }
   ],
   "source": [
    "# Caution:  do NOT replace original string version of the column\n",
    "\n",
    "## showing the lists are really strings\n",
    "powers = df1.loc[1,'Powers']\n",
    "print(type(powers))\n",
    "powers"
   ]
  },
  {
   "cell_type": "code",
   "execution_count": 32,
   "id": "add0c487",
   "metadata": {},
   "outputs": [
    {
     "data": {
      "text/plain": [
       "0        [Agility, Super Strength, Stamina, Super Speed]\n",
       "1      [Accelerated Healing, Durability, Longevity, S...\n",
       "2      [Agility, Accelerated Healing, Cold Resistance...\n",
       "3                                   [Lantern Power Ring]\n",
       "4      [Accelerated Healing, Intelligence, Super Stre...\n",
       "                             ...                        \n",
       "662               [Flight, Energy Blasts, Size Changing]\n",
       "663    [Cold Resistance, Durability, Longevity, Super...\n",
       "664    [Agility, Stealth, Danger Sense, Marksmanship,...\n",
       "665    [Cryokinesis, Telepathy, Magic, Fire Control, ...\n",
       "666    [Super Speed, Intangibility, Time Travel, Time...\n",
       "Name: Powers_split, Length: 667, dtype: object"
      ]
     },
     "execution_count": 32,
     "metadata": {},
     "output_type": "execute_result"
    }
   ],
   "source": [
    "# Separate the Powers string by commas\n",
    "df1['Powers_split'] = df1['Powers'].str.split(\",\")\n",
    "df1['Powers_split']"
   ]
  },
  {
   "cell_type": "code",
   "execution_count": 33,
   "id": "c0dceda8",
   "metadata": {},
   "outputs": [
    {
     "data": {
      "text/html": [
       "<div>\n",
       "<style scoped>\n",
       "    .dataframe tbody tr th:only-of-type {\n",
       "        vertical-align: middle;\n",
       "    }\n",
       "\n",
       "    .dataframe tbody tr th {\n",
       "        vertical-align: top;\n",
       "    }\n",
       "\n",
       "    .dataframe thead th {\n",
       "        text-align: right;\n",
       "    }\n",
       "</style>\n",
       "<table border=\"1\" class=\"dataframe\">\n",
       "  <thead>\n",
       "    <tr style=\"text-align: right;\">\n",
       "      <th></th>\n",
       "      <th>hero_names</th>\n",
       "      <th>Powers</th>\n",
       "      <th>Powers_split</th>\n",
       "    </tr>\n",
       "  </thead>\n",
       "  <tbody>\n",
       "    <tr>\n",
       "      <th>0</th>\n",
       "      <td>3-D Man</td>\n",
       "      <td>Agility,Super Strength,Stamina,Super Speed</td>\n",
       "      <td>Agility</td>\n",
       "    </tr>\n",
       "    <tr>\n",
       "      <th>0</th>\n",
       "      <td>3-D Man</td>\n",
       "      <td>Agility,Super Strength,Stamina,Super Speed</td>\n",
       "      <td>Super Strength</td>\n",
       "    </tr>\n",
       "    <tr>\n",
       "      <th>0</th>\n",
       "      <td>3-D Man</td>\n",
       "      <td>Agility,Super Strength,Stamina,Super Speed</td>\n",
       "      <td>Stamina</td>\n",
       "    </tr>\n",
       "    <tr>\n",
       "      <th>0</th>\n",
       "      <td>3-D Man</td>\n",
       "      <td>Agility,Super Strength,Stamina,Super Speed</td>\n",
       "      <td>Super Speed</td>\n",
       "    </tr>\n",
       "    <tr>\n",
       "      <th>1</th>\n",
       "      <td>A-Bomb</td>\n",
       "      <td>Accelerated Healing,Durability,Longevity,Super...</td>\n",
       "      <td>Accelerated Healing</td>\n",
       "    </tr>\n",
       "    <tr>\n",
       "      <th>...</th>\n",
       "      <td>...</td>\n",
       "      <td>...</td>\n",
       "      <td>...</td>\n",
       "    </tr>\n",
       "    <tr>\n",
       "      <th>665</th>\n",
       "      <td>Zatanna</td>\n",
       "      <td>Cryokinesis,Telepathy,Magic,Fire Control,Proba...</td>\n",
       "      <td>Weather Control</td>\n",
       "    </tr>\n",
       "    <tr>\n",
       "      <th>666</th>\n",
       "      <td>Zoom</td>\n",
       "      <td>Super Speed,Intangibility,Time Travel,Time Man...</td>\n",
       "      <td>Super Speed</td>\n",
       "    </tr>\n",
       "    <tr>\n",
       "      <th>666</th>\n",
       "      <td>Zoom</td>\n",
       "      <td>Super Speed,Intangibility,Time Travel,Time Man...</td>\n",
       "      <td>Intangibility</td>\n",
       "    </tr>\n",
       "    <tr>\n",
       "      <th>666</th>\n",
       "      <td>Zoom</td>\n",
       "      <td>Super Speed,Intangibility,Time Travel,Time Man...</td>\n",
       "      <td>Time Travel</td>\n",
       "    </tr>\n",
       "    <tr>\n",
       "      <th>666</th>\n",
       "      <td>Zoom</td>\n",
       "      <td>Super Speed,Intangibility,Time Travel,Time Man...</td>\n",
       "      <td>Time Manipulation</td>\n",
       "    </tr>\n",
       "  </tbody>\n",
       "</table>\n",
       "<p>5874 rows × 3 columns</p>\n",
       "</div>"
      ],
      "text/plain": [
       "    hero_names                                             Powers  \\\n",
       "0      3-D Man         Agility,Super Strength,Stamina,Super Speed   \n",
       "0      3-D Man         Agility,Super Strength,Stamina,Super Speed   \n",
       "0      3-D Man         Agility,Super Strength,Stamina,Super Speed   \n",
       "0      3-D Man         Agility,Super Strength,Stamina,Super Speed   \n",
       "1       A-Bomb  Accelerated Healing,Durability,Longevity,Super...   \n",
       "..         ...                                                ...   \n",
       "665    Zatanna  Cryokinesis,Telepathy,Magic,Fire Control,Proba...   \n",
       "666       Zoom  Super Speed,Intangibility,Time Travel,Time Man...   \n",
       "666       Zoom  Super Speed,Intangibility,Time Travel,Time Man...   \n",
       "666       Zoom  Super Speed,Intangibility,Time Travel,Time Man...   \n",
       "666       Zoom  Super Speed,Intangibility,Time Travel,Time Man...   \n",
       "\n",
       "            Powers_split  \n",
       "0                Agility  \n",
       "0         Super Strength  \n",
       "0                Stamina  \n",
       "0            Super Speed  \n",
       "1    Accelerated Healing  \n",
       "..                   ...  \n",
       "665      Weather Control  \n",
       "666          Super Speed  \n",
       "666        Intangibility  \n",
       "666          Time Travel  \n",
       "666    Time Manipulation  \n",
       "\n",
       "[5874 rows x 3 columns]"
      ]
     },
     "execution_count": 33,
     "metadata": {},
     "output_type": "execute_result"
    }
   ],
   "source": [
    "# separate the Powers string out individually into a new column, Powers_split\n",
    "exploded = df1.explode('Powers_split')\n",
    "exploded"
   ]
  },
  {
   "cell_type": "code",
   "execution_count": 34,
   "id": "7fa39f93",
   "metadata": {},
   "outputs": [
    {
     "data": {
      "text/plain": [
       "array(['Agility', 'Super Strength', 'Stamina', 'Super Speed',\n",
       "       'Accelerated Healing', 'Durability', 'Longevity', 'Camouflage',\n",
       "       'Self-Sustenance', 'Cold Resistance', 'Underwater breathing',\n",
       "       'Marksmanship', 'Weapons Master', 'Intelligence', 'Telepathy',\n",
       "       'Immortality', 'Reflexes', 'Enhanced Sight', 'Sub-Mariner',\n",
       "       'Lantern Power Ring', 'Invulnerability', 'Animation',\n",
       "       'Super Breath', 'Dimensional Awareness', 'Flight', 'Size Changing',\n",
       "       'Teleportation', 'Magic', 'Dimensional Travel',\n",
       "       'Molecular Manipulation', 'Energy Manipulation', 'Power Cosmic',\n",
       "       'Energy Absorption', 'Elemental Transmogrification',\n",
       "       'Fire Resistance', 'Natural Armor', 'Heat Resistance',\n",
       "       'Matter Absorption', 'Regeneration', 'Stealth', 'Power Suit',\n",
       "       'Energy Blasts', 'Energy Beams', 'Heat Generation', 'Danger Sense',\n",
       "       'Phasing', 'Force Fields', 'Hypnokinesis', 'Invisibility',\n",
       "       'Enhanced Senses', 'Jump', 'Shapeshifting', 'Elasticity',\n",
       "       'Substance Secretion', 'Enhanced Hearing', 'Adaptation', 'Gliding',\n",
       "       'Natural Weapons', 'Wallcrawling', 'Vision - Thermal',\n",
       "       'Power Augmentation', 'Cryokinesis', 'Duplication',\n",
       "       'Weapon-based Powers', 'Fire Control', 'Enhanced Memory',\n",
       "       'Energy Constructs', 'Power Absorption', 'Time Travel',\n",
       "       'Enhanced Smell', 'Water Control', 'Vision - Telescopic',\n",
       "       'Magnetism', 'Vision - Microscopic', 'Vision - Night',\n",
       "       'Vision - Heat', 'Vision - X-Ray', 'Psionic Powers',\n",
       "       'Toxin and Disease Resistance', 'Animal Attributes',\n",
       "       'Animal Oriented Powers', 'Toxin and Disease Control', 'Empathy',\n",
       "       'Animal Control', 'Darkforce Manipulation', 'Time Manipulation',\n",
       "       'Reality Warping', 'Web Creation', 'Symbiote Costume',\n",
       "       'Telekinesis', 'Levitation', 'Biokinesis', 'Sonar',\n",
       "       'Enhanced Touch', 'Seismic Power', 'Energy Armor',\n",
       "       'Omnilingualism', 'Radiation Immunity', 'Density Control',\n",
       "       'Light Control', 'Illumination', 'Molecular Combustion',\n",
       "       'Astral Travel', 'Precognition', 'Intangibility', 'Illusions',\n",
       "       'Audio Control', 'Sonic Scream', 'Peak Human Condition',\n",
       "       'Vision - Infrared', 'Dexterity', 'Omnitrix', 'Omnipotent',\n",
       "       'Possession', 'Energy Resistance', 'Vision - Cryo', 'Mind Control',\n",
       "       'Mind Blast', 'Clairvoyance', 'Probability Manipulation',\n",
       "       'Death Touch', 'Electrokinesis', 'Gravity Control',\n",
       "       'Technopath/Cyberpath', 'Radar Sense', 'Astral Projection',\n",
       "       'Cloaking', 'Telepathy Resistance', 'Mind Control Resistance',\n",
       "       'Hyperkinesis', 'Spatial Awareness', 'Radiation Control',\n",
       "       'Radiation Absorption', 'Magic Resistance', 'Element Control',\n",
       "       'Plant Control', 'Terrakinesis', 'Power Sense', 'Wind Control',\n",
       "       'Qwardian Power Ring', 'Echolocation', 'Resurrection', 'The Force',\n",
       "       'Summoning', 'Banish', 'Molecular Dissipation',\n",
       "       'Electrical Transport', 'Speed Force', 'Grim Reaping',\n",
       "       'Portal Creation', 'Vitakinesis', 'Projection', 'Insanity',\n",
       "       'Photographic Reflexes', 'Anti-Gravity', 'Thirstokinesis',\n",
       "       'Power Nullifier', 'Weather Control', 'Omnipresent', 'Omniscient',\n",
       "       'Hair Manipulation', 'Nova Force', 'Odin Force', 'Phoenix Force',\n",
       "       'Intuitive aptitude', 'Melting', 'Changing Armor'], dtype=object)"
      ]
     },
     "execution_count": 34,
     "metadata": {},
     "output_type": "execute_result"
    }
   ],
   "source": [
    "## saving the unique values from the exploded column\n",
    "# drop duplicate string values, save unique ones\n",
    "cols_to_make = exploded['Powers_split'].dropna().unique()\n",
    "cols_to_make"
   ]
  },
  {
   "cell_type": "code",
   "execution_count": 41,
   "id": "1b08757a",
   "metadata": {},
   "outputs": [
    {
     "data": {
      "text/html": [
       "<div>\n",
       "<style scoped>\n",
       "    .dataframe tbody tr th:only-of-type {\n",
       "        vertical-align: middle;\n",
       "    }\n",
       "\n",
       "    .dataframe tbody tr th {\n",
       "        vertical-align: top;\n",
       "    }\n",
       "\n",
       "    .dataframe thead th {\n",
       "        text-align: right;\n",
       "    }\n",
       "</style>\n",
       "<table border=\"1\" class=\"dataframe\">\n",
       "  <thead>\n",
       "    <tr style=\"text-align: right;\">\n",
       "      <th></th>\n",
       "      <th>hero_names</th>\n",
       "      <th>Powers</th>\n",
       "      <th>Powers_split</th>\n",
       "      <th>Agility</th>\n",
       "      <th>Super Strength</th>\n",
       "      <th>Stamina</th>\n",
       "      <th>Super Speed</th>\n",
       "      <th>Accelerated Healing</th>\n",
       "      <th>Durability</th>\n",
       "      <th>Longevity</th>\n",
       "      <th>...</th>\n",
       "      <th>Weather Control</th>\n",
       "      <th>Omnipresent</th>\n",
       "      <th>Omniscient</th>\n",
       "      <th>Hair Manipulation</th>\n",
       "      <th>Nova Force</th>\n",
       "      <th>Odin Force</th>\n",
       "      <th>Phoenix Force</th>\n",
       "      <th>Intuitive aptitude</th>\n",
       "      <th>Melting</th>\n",
       "      <th>Changing Armor</th>\n",
       "    </tr>\n",
       "  </thead>\n",
       "  <tbody>\n",
       "    <tr>\n",
       "      <th>0</th>\n",
       "      <td>3-D Man</td>\n",
       "      <td>Agility,Super Strength,Stamina,Super Speed</td>\n",
       "      <td>[Agility, Super Strength, Stamina, Super Speed]</td>\n",
       "      <td>True</td>\n",
       "      <td>True</td>\n",
       "      <td>True</td>\n",
       "      <td>True</td>\n",
       "      <td>False</td>\n",
       "      <td>False</td>\n",
       "      <td>False</td>\n",
       "      <td>...</td>\n",
       "      <td>False</td>\n",
       "      <td>False</td>\n",
       "      <td>False</td>\n",
       "      <td>False</td>\n",
       "      <td>False</td>\n",
       "      <td>False</td>\n",
       "      <td>False</td>\n",
       "      <td>False</td>\n",
       "      <td>False</td>\n",
       "      <td>False</td>\n",
       "    </tr>\n",
       "    <tr>\n",
       "      <th>1</th>\n",
       "      <td>A-Bomb</td>\n",
       "      <td>Accelerated Healing,Durability,Longevity,Super...</td>\n",
       "      <td>[Accelerated Healing, Durability, Longevity, S...</td>\n",
       "      <td>False</td>\n",
       "      <td>True</td>\n",
       "      <td>True</td>\n",
       "      <td>False</td>\n",
       "      <td>True</td>\n",
       "      <td>True</td>\n",
       "      <td>True</td>\n",
       "      <td>...</td>\n",
       "      <td>False</td>\n",
       "      <td>False</td>\n",
       "      <td>False</td>\n",
       "      <td>False</td>\n",
       "      <td>False</td>\n",
       "      <td>False</td>\n",
       "      <td>False</td>\n",
       "      <td>False</td>\n",
       "      <td>False</td>\n",
       "      <td>False</td>\n",
       "    </tr>\n",
       "    <tr>\n",
       "      <th>2</th>\n",
       "      <td>Abe Sapien</td>\n",
       "      <td>Agility,Accelerated Healing,Cold Resistance,Du...</td>\n",
       "      <td>[Agility, Accelerated Healing, Cold Resistance...</td>\n",
       "      <td>True</td>\n",
       "      <td>True</td>\n",
       "      <td>True</td>\n",
       "      <td>False</td>\n",
       "      <td>True</td>\n",
       "      <td>True</td>\n",
       "      <td>True</td>\n",
       "      <td>...</td>\n",
       "      <td>False</td>\n",
       "      <td>False</td>\n",
       "      <td>False</td>\n",
       "      <td>False</td>\n",
       "      <td>False</td>\n",
       "      <td>False</td>\n",
       "      <td>False</td>\n",
       "      <td>False</td>\n",
       "      <td>False</td>\n",
       "      <td>False</td>\n",
       "    </tr>\n",
       "    <tr>\n",
       "      <th>3</th>\n",
       "      <td>Abin Sur</td>\n",
       "      <td>Lantern Power Ring</td>\n",
       "      <td>[Lantern Power Ring]</td>\n",
       "      <td>False</td>\n",
       "      <td>False</td>\n",
       "      <td>False</td>\n",
       "      <td>False</td>\n",
       "      <td>False</td>\n",
       "      <td>False</td>\n",
       "      <td>False</td>\n",
       "      <td>...</td>\n",
       "      <td>False</td>\n",
       "      <td>False</td>\n",
       "      <td>False</td>\n",
       "      <td>False</td>\n",
       "      <td>False</td>\n",
       "      <td>False</td>\n",
       "      <td>False</td>\n",
       "      <td>False</td>\n",
       "      <td>False</td>\n",
       "      <td>False</td>\n",
       "    </tr>\n",
       "    <tr>\n",
       "      <th>4</th>\n",
       "      <td>Abomination</td>\n",
       "      <td>Accelerated Healing,Intelligence,Super Strengt...</td>\n",
       "      <td>[Accelerated Healing, Intelligence, Super Stre...</td>\n",
       "      <td>False</td>\n",
       "      <td>True</td>\n",
       "      <td>True</td>\n",
       "      <td>True</td>\n",
       "      <td>True</td>\n",
       "      <td>False</td>\n",
       "      <td>False</td>\n",
       "      <td>...</td>\n",
       "      <td>False</td>\n",
       "      <td>False</td>\n",
       "      <td>False</td>\n",
       "      <td>False</td>\n",
       "      <td>False</td>\n",
       "      <td>False</td>\n",
       "      <td>False</td>\n",
       "      <td>False</td>\n",
       "      <td>False</td>\n",
       "      <td>False</td>\n",
       "    </tr>\n",
       "  </tbody>\n",
       "</table>\n",
       "<p>5 rows × 170 columns</p>\n",
       "</div>"
      ],
      "text/plain": [
       "    hero_names                                             Powers  \\\n",
       "0      3-D Man         Agility,Super Strength,Stamina,Super Speed   \n",
       "1       A-Bomb  Accelerated Healing,Durability,Longevity,Super...   \n",
       "2   Abe Sapien  Agility,Accelerated Healing,Cold Resistance,Du...   \n",
       "3     Abin Sur                                 Lantern Power Ring   \n",
       "4  Abomination  Accelerated Healing,Intelligence,Super Strengt...   \n",
       "\n",
       "                                        Powers_split  Agility  Super Strength  \\\n",
       "0    [Agility, Super Strength, Stamina, Super Speed]     True            True   \n",
       "1  [Accelerated Healing, Durability, Longevity, S...    False            True   \n",
       "2  [Agility, Accelerated Healing, Cold Resistance...     True            True   \n",
       "3                               [Lantern Power Ring]    False           False   \n",
       "4  [Accelerated Healing, Intelligence, Super Stre...    False            True   \n",
       "\n",
       "   Stamina  Super Speed  Accelerated Healing  Durability  Longevity  ...  \\\n",
       "0     True         True                False       False      False  ...   \n",
       "1     True        False                 True        True       True  ...   \n",
       "2     True        False                 True        True       True  ...   \n",
       "3    False        False                False       False      False  ...   \n",
       "4     True         True                 True       False      False  ...   \n",
       "\n",
       "   Weather Control  Omnipresent  Omniscient  Hair Manipulation  Nova Force  \\\n",
       "0            False        False       False              False       False   \n",
       "1            False        False       False              False       False   \n",
       "2            False        False       False              False       False   \n",
       "3            False        False       False              False       False   \n",
       "4            False        False       False              False       False   \n",
       "\n",
       "   Odin Force  Phoenix Force  Intuitive aptitude  Melting  Changing Armor  \n",
       "0       False          False               False    False           False  \n",
       "1       False          False               False    False           False  \n",
       "2       False          False               False    False           False  \n",
       "3       False          False               False    False           False  \n",
       "4       False          False               False    False           False  \n",
       "\n",
       "[5 rows x 170 columns]"
      ]
     },
     "execution_count": 41,
     "metadata": {},
     "output_type": "execute_result"
    }
   ],
   "source": [
    "for col in cols_to_make:\n",
    "    df1[col] = df1['Powers'].str.contains(col)\n",
    "df1.head()"
   ]
  },
  {
   "cell_type": "code",
   "execution_count": 36,
   "id": "4e864513",
   "metadata": {},
   "outputs": [
    {
     "data": {
      "text/html": [
       "<div>\n",
       "<style scoped>\n",
       "    .dataframe tbody tr th:only-of-type {\n",
       "        vertical-align: middle;\n",
       "    }\n",
       "\n",
       "    .dataframe tbody tr th {\n",
       "        vertical-align: top;\n",
       "    }\n",
       "\n",
       "    .dataframe thead th {\n",
       "        text-align: right;\n",
       "    }\n",
       "</style>\n",
       "<table border=\"1\" class=\"dataframe\">\n",
       "  <thead>\n",
       "    <tr style=\"text-align: right;\">\n",
       "      <th></th>\n",
       "      <th>Gender</th>\n",
       "      <th>Race</th>\n",
       "      <th>Alignment</th>\n",
       "      <th>Hair color</th>\n",
       "      <th>Eye color</th>\n",
       "      <th>Skin color</th>\n",
       "      <th>Height</th>\n",
       "      <th>Weight</th>\n",
       "      <th>Hero</th>\n",
       "      <th>Publisher</th>\n",
       "      <th>...</th>\n",
       "      <th>Weather Control</th>\n",
       "      <th>Omnipresent</th>\n",
       "      <th>Omniscient</th>\n",
       "      <th>Hair Manipulation</th>\n",
       "      <th>Nova Force</th>\n",
       "      <th>Odin Force</th>\n",
       "      <th>Phoenix Force</th>\n",
       "      <th>Intuitive aptitude</th>\n",
       "      <th>Melting</th>\n",
       "      <th>Changing Armor</th>\n",
       "    </tr>\n",
       "  </thead>\n",
       "  <tbody>\n",
       "    <tr>\n",
       "      <th>0</th>\n",
       "      <td>Male</td>\n",
       "      <td>Human</td>\n",
       "      <td>good</td>\n",
       "      <td>No Hair</td>\n",
       "      <td>yellow</td>\n",
       "      <td>Unknown</td>\n",
       "      <td>203.0</td>\n",
       "      <td>441.0</td>\n",
       "      <td>A-Bomb</td>\n",
       "      <td>Marvel Comics</td>\n",
       "      <td>...</td>\n",
       "      <td>False</td>\n",
       "      <td>False</td>\n",
       "      <td>False</td>\n",
       "      <td>False</td>\n",
       "      <td>False</td>\n",
       "      <td>False</td>\n",
       "      <td>False</td>\n",
       "      <td>False</td>\n",
       "      <td>False</td>\n",
       "      <td>False</td>\n",
       "    </tr>\n",
       "    <tr>\n",
       "      <th>1</th>\n",
       "      <td>Male</td>\n",
       "      <td>Icthyo Sapien</td>\n",
       "      <td>good</td>\n",
       "      <td>No Hair</td>\n",
       "      <td>blue</td>\n",
       "      <td>blue</td>\n",
       "      <td>191.0</td>\n",
       "      <td>65.0</td>\n",
       "      <td>Abe Sapien</td>\n",
       "      <td>Dark Horse Comics</td>\n",
       "      <td>...</td>\n",
       "      <td>False</td>\n",
       "      <td>False</td>\n",
       "      <td>False</td>\n",
       "      <td>False</td>\n",
       "      <td>False</td>\n",
       "      <td>False</td>\n",
       "      <td>False</td>\n",
       "      <td>False</td>\n",
       "      <td>False</td>\n",
       "      <td>False</td>\n",
       "    </tr>\n",
       "    <tr>\n",
       "      <th>2</th>\n",
       "      <td>Male</td>\n",
       "      <td>Ungaran</td>\n",
       "      <td>good</td>\n",
       "      <td>No Hair</td>\n",
       "      <td>blue</td>\n",
       "      <td>red</td>\n",
       "      <td>185.0</td>\n",
       "      <td>90.0</td>\n",
       "      <td>Abin Sur</td>\n",
       "      <td>DC Comics</td>\n",
       "      <td>...</td>\n",
       "      <td>False</td>\n",
       "      <td>False</td>\n",
       "      <td>False</td>\n",
       "      <td>False</td>\n",
       "      <td>False</td>\n",
       "      <td>False</td>\n",
       "      <td>False</td>\n",
       "      <td>False</td>\n",
       "      <td>False</td>\n",
       "      <td>False</td>\n",
       "    </tr>\n",
       "    <tr>\n",
       "      <th>3</th>\n",
       "      <td>Male</td>\n",
       "      <td>Human / Radiation</td>\n",
       "      <td>bad</td>\n",
       "      <td>No Hair</td>\n",
       "      <td>green</td>\n",
       "      <td>Unknown</td>\n",
       "      <td>203.0</td>\n",
       "      <td>441.0</td>\n",
       "      <td>Abomination</td>\n",
       "      <td>Marvel Comics</td>\n",
       "      <td>...</td>\n",
       "      <td>False</td>\n",
       "      <td>False</td>\n",
       "      <td>False</td>\n",
       "      <td>False</td>\n",
       "      <td>False</td>\n",
       "      <td>False</td>\n",
       "      <td>False</td>\n",
       "      <td>False</td>\n",
       "      <td>False</td>\n",
       "      <td>False</td>\n",
       "    </tr>\n",
       "    <tr>\n",
       "      <th>4</th>\n",
       "      <td>Male</td>\n",
       "      <td>Human</td>\n",
       "      <td>bad</td>\n",
       "      <td>No Hair</td>\n",
       "      <td>blue</td>\n",
       "      <td>Unknown</td>\n",
       "      <td>193.0</td>\n",
       "      <td>122.0</td>\n",
       "      <td>Absorbing Man</td>\n",
       "      <td>Marvel Comics</td>\n",
       "      <td>...</td>\n",
       "      <td>False</td>\n",
       "      <td>False</td>\n",
       "      <td>False</td>\n",
       "      <td>False</td>\n",
       "      <td>False</td>\n",
       "      <td>False</td>\n",
       "      <td>False</td>\n",
       "      <td>False</td>\n",
       "      <td>False</td>\n",
       "      <td>False</td>\n",
       "    </tr>\n",
       "  </tbody>\n",
       "</table>\n",
       "<p>5 rows × 180 columns</p>\n",
       "</div>"
      ],
      "text/plain": [
       "  Gender               Race Alignment Hair color Eye color Skin color  Height  \\\n",
       "0   Male              Human      good    No Hair    yellow    Unknown   203.0   \n",
       "1   Male      Icthyo Sapien      good    No Hair      blue       blue   191.0   \n",
       "2   Male            Ungaran      good    No Hair      blue        red   185.0   \n",
       "3   Male  Human / Radiation       bad    No Hair     green    Unknown   203.0   \n",
       "4   Male              Human       bad    No Hair      blue    Unknown   193.0   \n",
       "\n",
       "   Weight           Hero          Publisher  ... Weather Control Omnipresent  \\\n",
       "0   441.0         A-Bomb      Marvel Comics  ...           False       False   \n",
       "1    65.0     Abe Sapien  Dark Horse Comics  ...           False       False   \n",
       "2    90.0       Abin Sur          DC Comics  ...           False       False   \n",
       "3   441.0    Abomination      Marvel Comics  ...           False       False   \n",
       "4   122.0  Absorbing Man      Marvel Comics  ...           False       False   \n",
       "\n",
       "  Omniscient  Hair Manipulation  Nova Force  Odin Force  Phoenix Force  \\\n",
       "0      False              False       False       False          False   \n",
       "1      False              False       False       False          False   \n",
       "2      False              False       False       False          False   \n",
       "3      False              False       False       False          False   \n",
       "4      False              False       False       False          False   \n",
       "\n",
       "   Intuitive aptitude  Melting  Changing Armor  \n",
       "0               False    False           False  \n",
       "1               False    False           False  \n",
       "2               False    False           False  \n",
       "3               False    False           False  \n",
       "4               False    False           False  \n",
       "\n",
       "[5 rows x 180 columns]"
      ]
     },
     "execution_count": 36,
     "metadata": {},
     "output_type": "execute_result"
    }
   ],
   "source": [
    "merged = pd.merge (df, df1, left_on = 'Hero', right_on = 'hero_names')\n",
    "merged.head()"
   ]
  },
  {
   "cell_type": "markdown",
   "id": "f27ff214",
   "metadata": {},
   "source": [
    "### Use your combined DataFrame to answer the following questions.\n",
    "\n",
    "1. Compare the average weight of super powers who have Super Speed to those who do not.\n",
    "\n",
    "2. What is the average height of heroes for each publisher?"
   ]
  },
  {
   "cell_type": "code",
   "execution_count": 37,
   "id": "940d1f00",
   "metadata": {},
   "outputs": [
    {
     "data": {
      "text/plain": [
       "Super Speed\n",
       "False    101.773585\n",
       "True     129.404040\n",
       "Name: Weight, dtype: float64"
      ]
     },
     "execution_count": 37,
     "metadata": {},
     "output_type": "execute_result"
    }
   ],
   "source": [
    "merged.groupby('Super Speed')['Weight'].mean()"
   ]
  },
  {
   "cell_type": "code",
   "execution_count": 38,
   "id": "eb8ca796",
   "metadata": {},
   "outputs": [
    {
     "data": {
      "image/png": "[encoded data removed]",
      "text/plain": [
       "<Figure size 432x288 with 1 Axes>"
      ]
     },
     "metadata": {
      "needs_background": "light"
     },
     "output_type": "display_data"
    }
   ],
   "source": [
    "sns.barplot(data=merged, x='Super Speed',y='Weight');"
   ]
  },
  {
   "cell_type": "code",
   "execution_count": 39,
   "id": "4bb6f4c0",
   "metadata": {},
   "outputs": [
    {
     "data": {
      "text/plain": [
       "Publisher\n",
       "DC Comics            181.923913\n",
       "Dark Horse Comics    176.909091\n",
       "George Lucas         159.600000\n",
       "Image Comics         211.000000\n",
       "Marvel Comics        191.546128\n",
       "Shueisha             171.500000\n",
       "Star Trek            181.500000\n",
       "Team Epic TV         180.750000\n",
       "Unknown              178.000000\n",
       "Name: Height, dtype: float64"
      ]
     },
     "execution_count": 39,
     "metadata": {},
     "output_type": "execute_result"
    }
   ],
   "source": [
    "merged.groupby('Publisher')['Height'].mean()"
   ]
  },
  {
   "cell_type": "code",
   "execution_count": 40,
   "id": "edcb86f7",
   "metadata": {},
   "outputs": [
    {
     "data": {
      "image/png": "[encoded data removed]",
      "text/plain": [
       "<Figure size 432x288 with 1 Axes>"
      ]
     },
     "metadata": {
      "needs_background": "light"
     },
     "output_type": "display_data"
    }
   ],
   "source": [
    "sns.barplot(data=merged, x='Publisher',y='Height');\n",
    "plt.xticks(rotation=45);"
   ]
  }
 ],
 "metadata": {
  "kernelspec": {
   "display_name": "Python (dojo-env)",
   "language": "python",
   "name": "dojo-env"
  },
  "language_info": {
   "codemirror_mode": {
    "name": "ipython",
    "version": 3
   },
   "file_extension": ".py",
   "mimetype": "text/x-python",
   "name": "python",
   "nbconvert_exporter": "python",
   "pygments_lexer": "ipython3",
   "version": "3.7.12"
  },
  "toc": {
   "base_numbering": 1,
   "nav_menu": {},
   "number_sections": false,
   "sideBar": true,
   "skip_h1_title": false,
   "title_cell": "Table of Contents",
   "title_sidebar": "Contents",
   "toc_cell": false,
   "toc_position": {},
   "toc_section_display": true,
   "toc_window_display": true
  }
 },
 "nbformat": 4,
 "nbformat_minor": 5
}
